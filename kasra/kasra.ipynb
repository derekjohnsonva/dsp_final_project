{
 "cells": [
  {
   "attachments": {},
   "cell_type": "markdown",
   "metadata": {},
   "source": [
    "# Data modification test"
   ]
  },
  {
   "cell_type": "code",
   "execution_count": 17,
   "metadata": {},
   "outputs": [],
   "source": [
    "import numpy as np\n",
    "import matplotlib.pyplot as plt\n",
    "\n",
    "import mne\n",
    "from mne.datasets.sleep_physionet.age import fetch_data\n",
    "\n",
    "from sklearn.ensemble import RandomForestClassifier\n",
    "from sklearn.metrics import accuracy_score\n",
    "from sklearn.metrics import confusion_matrix\n",
    "from sklearn.metrics import classification_report\n",
    "from sklearn.pipeline import make_pipeline\n",
    "from sklearn.preprocessing import FunctionTransformer"
   ]
  },
  {
   "cell_type": "code",
   "execution_count": 18,
   "metadata": {},
   "outputs": [
    {
     "name": "stdout",
     "output_type": "stream",
     "text": [
      "Using default location ~/mne_data for PHYSIONET_SLEEP...\n",
      "Extracting EDF parameters from /home/anrath/mne_data/physionet-sleep-data/SC4001E0-PSG.edf...\n",
      "EDF file detected\n",
      "Setting channel info structure...\n",
      "Creating raw.info structure...\n",
      "Reading 0 ... 7949999  =      0.000 ... 79499.990 secs...\n"
     ]
    },
    {
     "data": {
      "text/html": [
       "<table class=\"table table-hover table-striped table-sm table-responsive small\">\n",
       "    <tr>\n",
       "        <th>Measurement date</th>\n",
       "        \n",
       "        <td>April 24, 1989  16:13:00 GMT</td>\n",
       "        \n",
       "    </tr>\n",
       "    <tr>\n",
       "        <th>Experimenter</th>\n",
       "        \n",
       "        <td>Unknown</td>\n",
       "        \n",
       "    </tr>\n",
       "        <th>Participant</th>\n",
       "        \n",
       "        <td>Unknown</td>\n",
       "        \n",
       "    </tr>\n",
       "    <tr>\n",
       "        <th>Digitized points</th>\n",
       "        \n",
       "        <td>Not available</td>\n",
       "        \n",
       "    </tr>\n",
       "    <tr>\n",
       "        <th>Good channels</th>\n",
       "        <td>5 EEG, 1 misc, 1 Stimulus</td>\n",
       "    </tr>\n",
       "    <tr>\n",
       "        <th>Bad channels</th>\n",
       "        <td>None</td>\n",
       "    </tr>\n",
       "    <tr>\n",
       "        <th>EOG channels</th>\n",
       "        <td>Not available</td>\n",
       "    </tr>\n",
       "    <tr>\n",
       "        <th>ECG channels</th>\n",
       "        <td>Not available</td>\n",
       "    \n",
       "    <tr>\n",
       "        <th>Sampling frequency</th>\n",
       "        <td>100.00 Hz</td>\n",
       "    </tr>\n",
       "    \n",
       "    \n",
       "    <tr>\n",
       "        <th>Highpass</th>\n",
       "        <td>0.50 Hz</td>\n",
       "    </tr>\n",
       "    \n",
       "    \n",
       "    <tr>\n",
       "        <th>Lowpass</th>\n",
       "        <td>100.00 Hz</td>\n",
       "    </tr>\n",
       "    \n",
       "    \n",
       "    \n",
       "    <tr>\n",
       "        <th>Filenames</th>\n",
       "        <td>SC4001E0-PSG.edf</td>\n",
       "    </tr>\n",
       "    \n",
       "    <tr>\n",
       "        <th>Duration</th>\n",
       "        <td>22:04:60 (HH:MM:SS)</td>\n",
       "    </tr>\n",
       "</table>"
      ],
      "text/plain": [
       "<RawEDF | SC4001E0-PSG.edf, 7 x 7950000 (79500.0 s), ~424.6 MB, data loaded>"
      ]
     },
     "execution_count": 18,
     "metadata": {},
     "output_type": "execute_result"
    }
   ],
   "source": [
    "ALICE, BOB = 0, 1\n",
    "\n",
    "[alice_files, bob_files] = fetch_data(subjects=[ALICE, BOB], recording=[1])\n",
    "\n",
    "raw_train = mne.io.read_raw_edf(alice_files[0], stim_channel='Event marker',\n",
    "                                misc=['Temp rectal'], preload=True)\n",
    "annot_train = mne.read_annotations(alice_files[1])\n",
    "\n",
    "raw_train.set_annotations(annot_train, emit_warning=False)\n",
    "\n",
    "# raw_train.plot(start=60, duration=60,\n",
    "#                scalings=dict(eeg=1e-4, resp=1e3, eog=1e-4, emg=1e-7,\n",
    "#                              misc=1e-1))"
   ]
  },
  {
   "cell_type": "code",
   "execution_count": 34,
   "metadata": {},
   "outputs": [],
   "source": [
    "# raw_copy = raw_train.copy()\n",
    "# func_data = raw_copy.apply_function(np.abs)\n",
    "# func_data.get_data()"
   ]
  },
  {
   "cell_type": "code",
   "execution_count": 40,
   "metadata": {},
   "outputs": [
    {
     "name": "stdout",
     "output_type": "stream",
     "text": [
      "Found 29454 significant peaks\n"
     ]
    }
   ],
   "source": [
    "from peak_finder import PeakFinder as pf\n",
    "\n",
    "t = np.arange(0, 3, 0.01)\n",
    "signal_sin = np.sin(np.pi*t) - np.sin(0.5*np.pi*t)\n",
    "mne_sin_peak_locs, mne_sin_peak_mags = mne.preprocessing.peak_finder(signal_sin) \n",
    "\n",
    "signal_eeg = raw_train.get_data()[0]\n",
    "format_percent = lambda x, y: np.round(len(x)/len(y), 4)\n",
    "mne_eeg_peak_locs, mne_eeg_peak_mags = mne.preprocessing.peak_finder(raw_train.get_data()[0])\n",
    "\n",
    "def success_metrics(results, signal='eeg', string=\"\"):\n",
    "    if signal == 'eeg':\n",
    "        signal = signal_eeg\n",
    "        mne_peak_locs = mne_eeg_peak_locs\n",
    "    elif signal == 'sin':\n",
    "        signal = signal_sin\n",
    "        mne_peak_locs = mne_sin_peak_locs\n",
    "\n",
    "    common_peaks = np.intersect1d(results, mne_peak_locs)\n",
    "    common_peaks_len = len(common_peaks)\n",
    "\n",
    "    results_len = len(results)\n",
    "    peak_to_signal_ratio = format_percent(results, signal)\n",
    "\n",
    "    actual_to_predicted_peak_count_ratio = format_percent(results, mne_peak_locs)\n",
    "\n",
    "    print(string + f\"Peaks: {results_len} ({peak_to_signal_ratio}), Intersect Num: {common_peaks_len} ({actual_to_predicted_peak_count_ratio})\")\n",
    "    return None\n"
   ]
  },
  {
   "cell_type": "code",
   "execution_count": 37,
   "metadata": {},
   "outputs": [
    {
     "name": "stdout",
     "output_type": "stream",
     "text": [
      "MNE: Peaks: 29454 (0.0037), Intersect Num: 29454 (1.0)\n",
      "Edge: rising, Peaks: 161038 (0.0203), Intersect Num: 25484 (5.4674)\n",
      "Edge: falling, Peaks: 161118 (0.0203), Intersect Num: 25323 (5.4702)\n",
      "Edge: both, Peaks: 162401 (0.0204), Intersect Num: 25484 (5.5137)\n",
      "Edge: None, Peaks: 159755 (0.0201), Intersect Num: 25323 (5.4239)\n",
      "\n",
      "\n",
      "MNE: Peaks: 2 (0.0067), Intersect Num: 2 (1.0)\n",
      "Edge: rising, Peaks: 2 (0.0067), Intersect Num: 2 (1.0)\n",
      "Edge: falling, Peaks: 2 (0.0067), Intersect Num: 2 (1.0)\n",
      "Edge: both, Peaks: 2 (0.0067), Intersect Num: 2 (1.0)\n",
      "Edge: None, Peaks: 2 (0.0067), Intersect Num: 2 (1.0)\n"
     ]
    }
   ],
   "source": [
    "minimum_height = 4e-5\n",
    "edges = ['rising', 'falling', 'both', None]\n",
    "# mph = None\n",
    "# print(f\"mne peak number: {len(mne_peak_locs)}\")\n",
    "success_metrics(mne_eeg_peak_locs, signal='eeg', string=\"MNE: \")\n",
    "for edge in edges:\n",
    "    ind_eeg_peak_typing_finder = pf.peak_typing_finder(signal_eeg, minimum_height=minimum_height, minimum_distance=1, edge=edge)\n",
    "    success_metrics(ind_eeg_peak_typing_finder, signal='eeg', string=f\"Edge: {edge}, \")\n",
    "\n",
    "print('\\n')\n",
    "\n",
    "success_metrics(mne_sin_peak_locs, signal='sin', string=\"MNE: \")\n",
    "for edge in edges:\n",
    "    ind_sin_peak_typing_finder = pf.peak_typing_finder(signal_sin, minimum_height=minimum_height, minimum_distance=1, edge=edge)\n",
    "    success_metrics(ind_sin_peak_typing_finder, signal='sin', string=f\"Edge: {edge}, \")"
   ]
  },
  {
   "cell_type": "code",
   "execution_count": 38,
   "metadata": {},
   "outputs": [
    {
     "name": "stdout",
     "output_type": "stream",
     "text": [
      "MNE: Peaks: 29454 (0.0037), Intersect Num: 29454 (1.0)\n",
      "Distance: 15, Peaks: 188047 (0.0237), Intersect Num: 28906 (6.3844)\n",
      "Distance: 35, Peaks: 87758 (0.011), Intersect Num: 27407 (2.9795)\n",
      "Distance: 50, Peaks: 63595 (0.008), Intersect Num: 25730 (2.1591)\n",
      "Distance: 100, Peaks: 34871 (0.0044), Intersect Num: 21150 (1.1839)\n",
      "Distance: 155, Peaks: 26413 (0.0033), Intersect Num: 18193 (0.8968)\n",
      "\n",
      "\n",
      "MNE: Peaks: 2 (0.0067), Intersect Num: 2 (1.0)\n",
      "Distance: 15, Peaks: 2 (0.0067), Intersect Num: 2 (1.0)\n",
      "Distance: 35, Peaks: 2 (0.0067), Intersect Num: 2 (1.0)\n",
      "Distance: 50, Peaks: 2 (0.0067), Intersect Num: 2 (1.0)\n",
      "Distance: 100, Peaks: 2 (0.0067), Intersect Num: 2 (1.0)\n",
      "Distance: 155, Peaks: 2 (0.0067), Intersect Num: 2 (1.0)\n"
     ]
    }
   ],
   "source": [
    "peaks_eeg = {}\n",
    "success_metrics(mne_eeg_peak_locs, signal='eeg', string=\"MNE: \")\n",
    "distances = [15, 35, 50, 100, 155]\n",
    "for distance in distances:\n",
    "    peaks_eeg[distance] = pf.naive_logical_find_peaks(signal_eeg, min_distance=distance)\n",
    "    success_metrics(peaks_eeg[distance], signal='eeg', string=f\"Distance: {distance}, \")\n",
    "\n",
    "print('\\n')\n",
    "\n",
    "peaks_sin = {}\n",
    "success_metrics(mne_sin_peak_locs, signal='sin', string=\"MNE: \")\n",
    "for distance in distances:\n",
    "    peaks_sin[distance] = pf.naive_logical_find_peaks(signal_sin, min_distance=distance)\n",
    "    success_metrics(peaks_sin[distance], signal='sin', string=f\"Distance: {distance}, \")"
   ]
  },
  {
   "cell_type": "code",
   "execution_count": 39,
   "metadata": {},
   "outputs": [
    {
     "name": "stdout",
     "output_type": "stream",
     "text": [
      "MNE: Peaks: 29454 (0.0037), Intersect Num: 29454 (1.0)\n",
      "Peaks: 2128087 (0.2677), Intersect Num: 29070 (72.2512)\n",
      "\n",
      "\n",
      "MNE: Peaks: 2 (0.0067), Intersect Num: 2 (1.0)\n",
      "Peaks: 2 (0.0067), Intersect Num: 1 (1.0)\n"
     ]
    }
   ],
   "source": [
    "success_metrics(mne_eeg_peak_locs, signal='eeg', string=\"MNE: \")\n",
    "ind_eeg_naive_mathematical_find_peaks = pf.naive_mathematical_find_peaks(signal_eeg)\n",
    "success_metrics(ind_eeg_naive_mathematical_find_peaks, signal='eeg')\n",
    "\n",
    "print('\\n')\n",
    "\n",
    "success_metrics(mne_sin_peak_locs, signal='sin', string=\"MNE: \")\n",
    "ind_sin_naive_mathematical_find_peaks = pf.naive_mathematical_find_peaks(signal_sin)\n",
    "success_metrics(ind_sin_naive_mathematical_find_peaks, signal='sin')"
   ]
  },
  {
   "cell_type": "code",
   "execution_count": null,
   "metadata": {},
   "outputs": [],
   "source": []
  }
 ],
 "metadata": {
  "kernelspec": {
   "display_name": "eeg",
   "language": "python",
   "name": "python3"
  },
  "language_info": {
   "codemirror_mode": {
    "name": "ipython",
    "version": 3
   },
   "file_extension": ".py",
   "mimetype": "text/x-python",
   "name": "python",
   "nbconvert_exporter": "python",
   "pygments_lexer": "ipython3",
   "version": "3.9.0"
  },
  "orig_nbformat": 4,
  "vscode": {
   "interpreter": {
    "hash": "65b8bad09b3ccbbad1fbd16916bdcd71353b11e9e0f7a166b918cb2ea546ebaa"
   }
  }
 },
 "nbformat": 4,
 "nbformat_minor": 2
}
