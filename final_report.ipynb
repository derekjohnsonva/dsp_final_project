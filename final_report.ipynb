{
 "cells": [
  {
   "attachments": {},
   "cell_type": "markdown",
   "metadata": {},
   "source": [
    "# Using DSP to improve the accuracy of an EEG classifier\n",
    "\n",
    "**Authors**\n",
    "1. Kasra Lekan (kl5sq)\n",
    "2. Derek Johnson (dej3tc)\n",
    "3. Fiji Marcelin (fm4cg)"
   ]
  },
  {
   "attachments": {},
   "cell_type": "markdown",
   "metadata": {},
   "source": [
    "## Experimental Setup\n",
    "**Signal Data**: We applied the a peak finding algorithm along with a bandpass and butterworth filter to sleep stage EEG data. This data is taken from a study looking at “slow-wave microconfinuity” during sleep [1]. \n",
    "\n",
    "**MNE Package**: The MNE package ..."
   ]
  },
  {
   "cell_type": "code",
   "execution_count": 7,
   "metadata": {},
   "outputs": [],
   "source": [
    "from mne_data_setup import *"
   ]
  },
  {
   "attachments": {},
   "cell_type": "markdown",
   "metadata": {},
   "source": [
    "## Method 1: Peak Finder\n",
    "### Theory\n",
    "I implemented four peak finder algorithms (naive_logical_find_peaks, naive_mathematical_find_peaks, peak_typing_finder, noisy_find_peaks). Note that the first two naive implementations were designed by me while the other two follow from algorithms written by others. Also note that all of these algorithms can easily be converted to also identify valleys by multiplying the signal data by -1 before running the algorithm. Additionally, only noisy_find_peaks is specifically designed to handle noisy signal data like eeg.\n",
    "\n",
    "Each algorithm was compared to the baseline of the MNE implementation of peaking finding on a sin wave signal and the eeg data described above. \n",
    "\n",
    "1. naive_logical_find_peaks – Compares if values are greater than their neighbors in the signal. The number of neighbors in the comparison is controlled by a parameter.\n",
    "2. naive_mathematical_find_peaks – Performs peak detection on three steps: 1. root mean square 2. peak to average ratios 3. first order logic. Thus, the method assumes that the underlying data follows a particular distribution, i.e. peaks will occur when the squared value of signal value divided by the root mean square (RMS) is larger than its neighbor values. By using a threshold, the algorithm attempts to handle any noise present in the dataset.\n",
    "3. peak_typing_finder – This algorithm is noteable for its time efficiency and that it handles various kinds of peaks based on edge (e.g. None, 'rising', 'falling', 'both'). Otherwise, the algorithm is quite similar to naive_logical_find_peaks. \n",
    "4. noisy_find_peaks – "
   ]
  },
  {
   "attachments": {},
   "cell_type": "markdown",
   "metadata": {},
   "source": [
    "### Implementation & Performance"
   ]
  },
  {
   "attachments": {},
   "cell_type": "markdown",
   "metadata": {},
   "source": [
    "#### MNE Baselines"
   ]
  },
  {
   "cell_type": "code",
   "execution_count": 8,
   "metadata": {},
   "outputs": [
    {
     "name": "stdout",
     "output_type": "stream",
     "text": [
      "Found 2 significant peaks\n",
      "Found 29454 significant peaks\n"
     ]
    }
   ],
   "source": [
    "from peak_finder import PeakFinder as pf\n",
    "\n",
    "t = np.arange(0, 3, 0.01)\n",
    "signal_sin = np.sin(np.pi*t) - np.sin(0.5*np.pi*t)\n",
    "mne_sin_peak_locs, mne_sin_peak_mags = mne.preprocessing.peak_finder(signal_sin) \n",
    "\n",
    "signal_eeg = raw_train.get_data()[0]\n",
    "format_percent = lambda x, y: np.round(len(x)/len(y), 4)\n",
    "mne_eeg_peak_locs, mne_eeg_peak_mags = mne.preprocessing.peak_finder(raw_train.get_data()[0])\n",
    "\n",
    "def success_metrics(results, signal='eeg', string=\"\"):\n",
    "    if signal == 'eeg':\n",
    "        signal = signal_eeg\n",
    "        mne_peak_locs = mne_eeg_peak_locs\n",
    "    elif signal == 'sin':\n",
    "        signal = signal_sin\n",
    "        mne_peak_locs = mne_sin_peak_locs\n",
    "\n",
    "    common_peaks = np.intersect1d(results, mne_peak_locs)\n",
    "    common_peaks_len = len(common_peaks)\n",
    "\n",
    "    results_len = len(results)\n",
    "    peak_to_signal_ratio = format_percent(results, signal)\n",
    "\n",
    "    actual_to_predicted_peak_count_ratio = format_percent(results, mne_peak_locs)\n",
    "\n",
    "    print(string + f\"Peaks: {results_len} ({peak_to_signal_ratio}), Intersect Num: {common_peaks_len} ({actual_to_predicted_peak_count_ratio})\")\n",
    "    return None"
   ]
  },
  {
   "attachments": {},
   "cell_type": "markdown",
   "metadata": {},
   "source": [
    "**MNE Commentary**: The MNE algorithm performs well on noisy data while keeping time complexity low."
   ]
  },
  {
   "attachments": {},
   "cell_type": "markdown",
   "metadata": {},
   "source": [
    "#### naive_logical_find_peaks"
   ]
  },
  {
   "cell_type": "code",
   "execution_count": 9,
   "metadata": {},
   "outputs": [
    {
     "name": "stdout",
     "output_type": "stream",
     "text": [
      "MNE: Peaks: 29454 (0.0037), Intersect Num: 29454 (1.0)\n",
      "Distance: 15, Peaks: 188047 (0.0237), Intersect Num: 28906 (6.3844)\n",
      "Distance: 35, Peaks: 87758 (0.011), Intersect Num: 27407 (2.9795)\n",
      "Distance: 50, Peaks: 63595 (0.008), Intersect Num: 25730 (2.1591)\n",
      "Distance: 100, Peaks: 34871 (0.0044), Intersect Num: 21150 (1.1839)\n",
      "Distance: 155, Peaks: 26413 (0.0033), Intersect Num: 18193 (0.8968)\n",
      "\n",
      "\n",
      "MNE: Peaks: 2 (0.0067), Intersect Num: 2 (1.0)\n",
      "Distance: 15, Peaks: 2 (0.0067), Intersect Num: 2 (1.0)\n",
      "Distance: 35, Peaks: 2 (0.0067), Intersect Num: 2 (1.0)\n",
      "Distance: 50, Peaks: 2 (0.0067), Intersect Num: 2 (1.0)\n",
      "Distance: 100, Peaks: 2 (0.0067), Intersect Num: 2 (1.0)\n",
      "Distance: 155, Peaks: 2 (0.0067), Intersect Num: 2 (1.0)\n"
     ]
    }
   ],
   "source": [
    "peaks_eeg = {}\n",
    "success_metrics(mne_eeg_peak_locs, signal='eeg', string=\"MNE: \")\n",
    "distances = [15, 35, 50, 100, 155]\n",
    "for distance in distances:\n",
    "    peaks_eeg[distance] = pf.naive_logical_find_peaks(signal_eeg, min_distance=distance)\n",
    "    success_metrics(peaks_eeg[distance], signal='eeg', string=f\"Distance: {distance}, \")\n",
    "\n",
    "print('\\n')\n",
    "\n",
    "peaks_sin = {}\n",
    "success_metrics(mne_sin_peak_locs, signal='sin', string=\"MNE: \")\n",
    "for distance in distances:\n",
    "    peaks_sin[distance] = pf.naive_logical_find_peaks(signal_sin, min_distance=distance)\n",
    "    success_metrics(peaks_sin[distance], signal='sin', string=f\"Distance: {distance}, \")"
   ]
  },
  {
   "attachments": {},
   "cell_type": "markdown",
   "metadata": {},
   "source": [
    "**Results Commentary**: In terms of time, naive_logical_find_peaks did not perform as well as MNE. Additionally, it performed poorly at distinguishing peaks in the noisy EEG dataset. "
   ]
  },
  {
   "attachments": {},
   "cell_type": "markdown",
   "metadata": {},
   "source": [
    "#### naive_mathematical_find_peaks"
   ]
  },
  {
   "cell_type": "code",
   "execution_count": 10,
   "metadata": {},
   "outputs": [
    {
     "name": "stdout",
     "output_type": "stream",
     "text": [
      "MNE: Peaks: 29454 (0.0037), Intersect Num: 29454 (1.0)\n",
      "Peaks: 2128087 (0.2677), Intersect Num: 29070 (72.2512)\n",
      "\n",
      "\n",
      "MNE: Peaks: 2 (0.0067), Intersect Num: 2 (1.0)\n",
      "Peaks: 2 (0.0067), Intersect Num: 1 (1.0)\n"
     ]
    }
   ],
   "source": [
    "success_metrics(mne_eeg_peak_locs, signal='eeg', string=\"MNE: \")\n",
    "ind_eeg_naive_mathematical_find_peaks = pf.naive_mathematical_find_peaks(signal_eeg)\n",
    "success_metrics(ind_eeg_naive_mathematical_find_peaks, signal='eeg')\n",
    "\n",
    "print('\\n')\n",
    "\n",
    "success_metrics(mne_sin_peak_locs, signal='sin', string=\"MNE: \")\n",
    "ind_sin_naive_mathematical_find_peaks = pf.naive_mathematical_find_peaks(signal_sin)\n",
    "success_metrics(ind_sin_naive_mathematical_find_peaks, signal='sin')"
   ]
  },
  {
   "attachments": {},
   "cell_type": "markdown",
   "metadata": {},
   "source": [
    "**Results Commentary**: In terms of time, naive_mathematical_find_peaks performed similarly to MNE. However, it performed poorly at distinguishing peaks in the noisy EEG dataset with 72.25 times as many peaks identified compared to MNE. "
   ]
  },
  {
   "attachments": {},
   "cell_type": "markdown",
   "metadata": {},
   "source": [
    "#### peak_typing_finder"
   ]
  },
  {
   "cell_type": "code",
   "execution_count": 11,
   "metadata": {},
   "outputs": [
    {
     "name": "stdout",
     "output_type": "stream",
     "text": [
      "MNE: Peaks: 29454 (0.0037), Intersect Num: 29454 (1.0)\n",
      "Edge: rising, Peaks: 161038 (0.0203), Intersect Num: 25484 (5.4674)\n",
      "Edge: falling, Peaks: 161118 (0.0203), Intersect Num: 25323 (5.4702)\n",
      "Edge: both, Peaks: 162401 (0.0204), Intersect Num: 25484 (5.5137)\n",
      "Edge: None, Peaks: 159755 (0.0201), Intersect Num: 25323 (5.4239)\n",
      "\n",
      "\n",
      "MNE: Peaks: 2 (0.0067), Intersect Num: 2 (1.0)\n",
      "Edge: rising, Peaks: 2 (0.0067), Intersect Num: 2 (1.0)\n",
      "Edge: falling, Peaks: 2 (0.0067), Intersect Num: 2 (1.0)\n",
      "Edge: both, Peaks: 2 (0.0067), Intersect Num: 2 (1.0)\n",
      "Edge: None, Peaks: 2 (0.0067), Intersect Num: 2 (1.0)\n"
     ]
    }
   ],
   "source": [
    "minimum_height = 4e-5\n",
    "edges = ['rising', 'falling', 'both', None]\n",
    "success_metrics(mne_eeg_peak_locs, signal='eeg', string=\"MNE: \")\n",
    "for edge in edges:\n",
    "    ind_eeg_peak_typing_finder = pf.peak_typing_finder(signal_eeg, minimum_height=minimum_height, minimum_distance=1, edge=edge)\n",
    "    success_metrics(ind_eeg_peak_typing_finder, signal='eeg', string=f\"Edge: {edge}, \")\n",
    "\n",
    "print('\\n')\n",
    "\n",
    "success_metrics(mne_sin_peak_locs, signal='sin', string=\"MNE: \")\n",
    "for edge in edges:\n",
    "    ind_sin_peak_typing_finder = pf.peak_typing_finder(signal_sin, minimum_height=minimum_height, minimum_distance=1, edge=edge)\n",
    "    success_metrics(ind_sin_peak_typing_finder, signal='sin', string=f\"Edge: {edge}, \")"
   ]
  },
  {
   "attachments": {},
   "cell_type": "markdown",
   "metadata": {},
   "source": [
    "**Results Commentary**: In terms of time, peak_typing_finder peformed as well or better than MNE. However, it performed moderately well at distinguishing peaks in the noisy EEG dataset with 5.47 times as many peaks identified compared to MNE while covering 87% of the peaks. The edge type did not significantly affect performance on this data, likely due to the noise in the EEG dataset."
   ]
  },
  {
   "cell_type": "code",
   "execution_count": null,
   "metadata": {},
   "outputs": [],
   "source": []
  },
  {
   "attachments": {},
   "cell_type": "markdown",
   "metadata": {},
   "source": [
    "@Derek and @Fiji"
   ]
  },
  {
   "attachments": {},
   "cell_type": "markdown",
   "metadata": {},
   "source": [
    "## Experiment Results"
   ]
  },
  {
   "cell_type": "code",
   "execution_count": null,
   "metadata": {},
   "outputs": [],
   "source": []
  },
  {
   "attachments": {},
   "cell_type": "markdown",
   "metadata": {},
   "source": [
    "## Challenges\n",
    "..."
   ]
  },
  {
   "attachments": {},
   "cell_type": "markdown",
   "metadata": {},
   "source": [
    "## Work Breakdown\n",
    "\n",
    "Kasra Lekan: \n",
    "- Coding experimental setup (including background MNE research how to modify underlying data)\n",
    "- Peak Detection Algorithm\n",
    "\n",
    "Derek Johnson: \n",
    "- Butterworth Filter\n",
    "\n",
    "Fiji Marcelin: \n",
    "- Band Pass Filter\n",
    "\n",
    "All:\n",
    "- Combining filters and testing classification accuracy"
   ]
  },
  {
   "attachments": {},
   "cell_type": "markdown",
   "metadata": {},
   "source": [
    "## References\n",
    "1. B. Kemp, A. H. Zwinderman, B. Tuk, H. A. C. Kamphuisen, and J. J. L. Oberyé. Analysis of a sleep-dependent neuronal feedback loop: the slow-wave microcontinuity of the EEG. IEEE Transactions on Biomedical Engineering, 47(9):1185–1194, 2000. doi:10.1109/10.867928.\n",
    "    Dataset for analysis\n",
    "2. https://mne.tools/stable/index.html\n",
    "    Implementation of foundational EEG signals pipleline\n",
    "3. https://neuraldatascience.io/intro.html\n",
    "    E-book that covers analysis of EEG data in the frequency domain.\n",
    "4. https://en.wikipedia.org/wiki/Band-pass_filter\n",
    "5. https://en.wikipedia.org/wiki/Butterworth_filter\n",
    "6. https://docs.scipy.org/doc/scipy/reference/generated/scipy.signal.find_peaks.html\n",
    "7. http://www.scholarpedia.org/article/Electroencephalogram\n",
    "    An overview of electroencephologram (EEG) collection. \n"
   ]
  }
 ],
 "metadata": {
  "kernelspec": {
   "display_name": "eeg",
   "language": "python",
   "name": "python3"
  },
  "language_info": {
   "codemirror_mode": {
    "name": "ipython",
    "version": 3
   },
   "file_extension": ".py",
   "mimetype": "text/x-python",
   "name": "python",
   "nbconvert_exporter": "python",
   "pygments_lexer": "ipython3",
   "version": "3.9.0"
  },
  "orig_nbformat": 4
 },
 "nbformat": 4,
 "nbformat_minor": 2
}
