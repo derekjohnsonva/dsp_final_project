{
 "cells": [
  {
   "attachments": {},
   "cell_type": "markdown",
   "metadata": {},
   "source": [
    "# Using DSP to improve the accuracy of an EEG classifier\n",
    "\n",
    "**Authors**\n",
    "1. Kasra Lekan (kl5sq)\n",
    "2. Derek Johnson (dej3tc)\n",
    "3. Fiji Marcelin (fm4cg)"
   ]
  },
  {
   "attachments": {},
   "cell_type": "markdown",
   "metadata": {},
   "source": [
    "## Experimental Setup\n",
    "**Signal Data**: We applied the a peak finding algorithm along with a bandpass and butterworth filter to sleep stage EEG data. This data is taken from a study looking at “slow-wave microconfinuity” during sleep [1]. \n",
    "\n",
    "**MNE Package**: The MNE package ..."
   ]
  },
  {
   "cell_type": "code",
   "execution_count": 16,
   "metadata": {},
   "outputs": [],
   "source": [
    "from mne_data_setup import *"
   ]
  },
  {
   "attachments": {},
   "cell_type": "markdown",
   "metadata": {},
   "source": [
    "## Method 1: Peak Finder\n",
    "### Theory\n",
    "I implemented three peak finder algorithms (`naive_logical_find_peaks`, `naive_mathematical_find_peaks`, `peak_typing_finder`). Note that the first two naive implementations were designed by me while the other two follow from algorithms written by others. Also note that all of these algorithms can easily be converted to also identify valleys by multiplying the signal data by -1 before running the algorithm.\n",
    "\n",
    "Each algorithm was compared to the baseline of the MNE implementation of peaking finding on a sin wave signal and the eeg data described above. \n",
    "\n",
    "1. `naive_logical_find_peaks` – Compares if values are greater than their neighbors in the signal. The number of neighbors in the comparison is controlled by a parameter.\n",
    "2. `naive_mathematical_find_peaks` – Performs peak detection on three steps: 1. root mean square 2. peak to average ratios 3. first order logic. Thus, the method assumes that the underlying data follows a particular distribution, i.e. peaks will occur when the squared value of signal value divided by the root mean square (RMS) is larger than its neighbor values. By using a threshold, the algorithm attempts to handle any noise present in the dataset.\n",
    "3. `peak_typing_finder` – This algorithm is noteable for its time efficiency and that it handles various kinds of peaks based on edge (e.g. None, 'rising', 'falling', 'both'). Otherwise, the algorithm is quite similar to naive_logical_find_peaks. \n",
    "\n",
    "An examination of the MNE algorithm's code shows that it follows the following algorithm. Note that some steps have been ommitted which handle edge cases.\n",
    "\n",
    "0. Initialize a minimum threshold between peaks\n",
    "    - Note that the thresholds I implemented were not between peaks. Rahter, they were minimum values for peaks or how much greater a peak had to be than its neighboring values.\n",
    "1. Use `np.diff` to calculate the change between each point in the signal (derivative).\n",
    "2. Find the indices where the derivative changes sign (peaks and valleys).\n",
    "3. Create a temporary array with only the values at these indices along with the start and end points of the signal.\n",
    "4. Find the minimum value in the array (`min_mag`).\n",
    "5. Check if start and end points should be candidates for peaks.\n",
    "6. Loop through peak candidates (peak, valley list)\n",
    "    0. Initialize the minimum magnitude for peak (`temp_mag`) as `min_mag`.\n",
    "    1. If the last value was a true peak, reset `temp_mag` to `min_mag`.\n",
    "    2. If candidate value greater than its peer by the threshold ammount. Set a new temp_mag. Add to true peak list.\n",
    "7. Return chosen candidates.\n",
    "\n",
    "The step 6 is why it can handle noisy data better than any of my algorithms. If step 6 was removed, MNE's algorithm would be equivalent to `peak_typing_finder`."
   ]
  },
  {
   "attachments": {},
   "cell_type": "markdown",
   "metadata": {},
   "source": [
    "### Implementation & Performance"
   ]
  },
  {
   "attachments": {},
   "cell_type": "markdown",
   "metadata": {},
   "source": [
    "#### MNE Baselines"
   ]
  },
  {
   "cell_type": "code",
   "execution_count": 17,
   "metadata": {},
   "outputs": [
    {
     "name": "stdout",
     "output_type": "stream",
     "text": [
      "Found 2 significant peaks\n",
      "Found 29454 significant peaks\n"
     ]
    }
   ],
   "source": [
    "from peak_finder import PeakFinder as pf\n",
    "\n",
    "t = np.arange(0, 3, 0.01)\n",
    "signal_sin = np.sin(np.pi*t) - np.sin(0.5*np.pi*t)\n",
    "mne_sin_peak_locs, mne_sin_peak_mags = mne.preprocessing.peak_finder(signal_sin) \n",
    "\n",
    "signal_eeg = raw_train.get_data()[0]\n",
    "format_percent = lambda x, y: np.round(len(x)/len(y), 4)\n",
    "mne_eeg_peak_locs, mne_eeg_peak_mags = mne.preprocessing.peak_finder(raw_train.get_data()[0])\n",
    "\n",
    "def success_metrics(results, signal='eeg', string=\"\"):\n",
    "    if signal == 'eeg':\n",
    "        signal = signal_eeg\n",
    "        mne_peak_locs = mne_eeg_peak_locs\n",
    "    elif signal == 'sin':\n",
    "        signal = signal_sin\n",
    "        mne_peak_locs = mne_sin_peak_locs\n",
    "\n",
    "    common_peaks = np.intersect1d(results, mne_peak_locs)\n",
    "    common_peaks_len = len(common_peaks)\n",
    "\n",
    "    true_positive_rate = format_percent(common_peaks, mne_peak_locs)\n",
    "\n",
    "    results_len = len(results)\n",
    "    peak_to_signal_ratio = format_percent(results, signal)\n",
    "\n",
    "    actual_to_predicted_peak_count_ratio = format_percent(results, mne_peak_locs)\n",
    "\n",
    "    print(string + f\"Peaks: {results_len}, peak/signal: {peak_to_signal_ratio}, (actual)/(predicted) peaks : {actual_to_predicted_peak_count_ratio}, Intersect Num: {common_peaks_len} ({true_positive_rate})\")\n",
    "    return None"
   ]
  },
  {
   "attachments": {},
   "cell_type": "markdown",
   "metadata": {},
   "source": [
    "**MNE Commentary**: The MNE algorithm performs well on noisy data while keeping time complexity low."
   ]
  },
  {
   "attachments": {},
   "cell_type": "markdown",
   "metadata": {},
   "source": [
    "#### scipy.signal.find_peaks"
   ]
  },
  {
   "cell_type": "code",
   "execution_count": 24,
   "metadata": {},
   "outputs": [
    {
     "name": "stdout",
     "output_type": "stream",
     "text": [
      "MNE: Peaks: 29454, peak/signal: 0.0037, (actual)/(predicted) peaks : 1.0, Intersect Num: 29454 (1.0)\n",
      "Peaks: 2069676, peak/signal: 0.2603, (actual)/(predicted) peaks : 70.2681, Intersect Num: 29451 (0.9999)\n",
      "\n",
      "\n",
      "MNE: Peaks: 2, peak/signal: 0.0067, (actual)/(predicted) peaks : 1.0, Intersect Num: 2 (1.0)\n",
      "Peaks: 2, peak/signal: 0.0067, (actual)/(predicted) peaks : 1.0, Intersect Num: 2 (1.0)\n"
     ]
    }
   ],
   "source": [
    "from scipy.signal import find_peaks\n",
    "\n",
    "success_metrics(mne_eeg_peak_locs, signal='eeg', string=\"MNE: \")\n",
    "scipy_peaks_eeg, _ = find_peaks(signal_eeg)\n",
    "success_metrics(scipy_peaks_eeg, signal='eeg')\n",
    "\n",
    "print('\\n')\n",
    "\n",
    "success_metrics(mne_sin_peak_locs, signal='sin', string=\"MNE: \")\n",
    "scipy_peaks_sin, _ = find_peaks(signal_sin)\n",
    "success_metrics(scipy_peaks_sin, signal='sin')"
   ]
  },
  {
   "attachments": {},
   "cell_type": "markdown",
   "metadata": {},
   "source": [
    "**Results Commentary**: In terms of time, scipy.signal.find_peaks clearly beats all other algorithms tested. Additionally, it performed poorly at distinguishing peaks in the noisy EEG dataset. The documentation from Scipy suggest to use a smoothing function before finding peaks in order to avoid this problem."
   ]
  },
  {
   "attachments": {},
   "cell_type": "markdown",
   "metadata": {},
   "source": [
    "#### naive_logical_find_peaks"
   ]
  },
  {
   "cell_type": "code",
   "execution_count": 18,
   "metadata": {},
   "outputs": [
    {
     "name": "stdout",
     "output_type": "stream",
     "text": [
      "MNE: Peaks: 29454, peak/signal: 0.0037, (actual)/(predicted) peaks : 1.0, Intersect Num: 29454 (1.0)\n",
      "Distance: 15, Peaks: 188047, peak/signal: 0.0237, (actual)/(predicted) peaks : 6.3844, Intersect Num: 28906 (0.9814)\n",
      "Distance: 35, Peaks: 87758, peak/signal: 0.011, (actual)/(predicted) peaks : 2.9795, Intersect Num: 27407 (0.9305)\n",
      "Distance: 50, Peaks: 63595, peak/signal: 0.008, (actual)/(predicted) peaks : 2.1591, Intersect Num: 25730 (0.8736)\n",
      "Distance: 100, Peaks: 34871, peak/signal: 0.0044, (actual)/(predicted) peaks : 1.1839, Intersect Num: 21150 (0.7181)\n",
      "Distance: 155, Peaks: 26413, peak/signal: 0.0033, (actual)/(predicted) peaks : 0.8968, Intersect Num: 18193 (0.6177)\n",
      "\n",
      "\n",
      "MNE: Peaks: 2, peak/signal: 0.0067, (actual)/(predicted) peaks : 1.0, Intersect Num: 2 (1.0)\n",
      "Distance: 15, Peaks: 2, peak/signal: 0.0067, (actual)/(predicted) peaks : 1.0, Intersect Num: 2 (1.0)\n",
      "Distance: 35, Peaks: 2, peak/signal: 0.0067, (actual)/(predicted) peaks : 1.0, Intersect Num: 2 (1.0)\n",
      "Distance: 50, Peaks: 2, peak/signal: 0.0067, (actual)/(predicted) peaks : 1.0, Intersect Num: 2 (1.0)\n",
      "Distance: 100, Peaks: 2, peak/signal: 0.0067, (actual)/(predicted) peaks : 1.0, Intersect Num: 2 (1.0)\n",
      "Distance: 155, Peaks: 2, peak/signal: 0.0067, (actual)/(predicted) peaks : 1.0, Intersect Num: 2 (1.0)\n"
     ]
    }
   ],
   "source": [
    "peaks_eeg = {}\n",
    "success_metrics(mne_eeg_peak_locs, signal='eeg', string=\"MNE: \")\n",
    "distances = [15, 35, 50, 100, 155]\n",
    "for distance in distances:\n",
    "    peaks_eeg[distance] = pf.naive_logical_find_peaks(signal_eeg, min_distance=distance)\n",
    "    success_metrics(peaks_eeg[distance], signal='eeg', string=f\"Distance: {distance}, \")\n",
    "\n",
    "print('\\n')\n",
    "\n",
    "peaks_sin = {}\n",
    "success_metrics(mne_sin_peak_locs, signal='sin', string=\"MNE: \")\n",
    "for distance in distances:\n",
    "    peaks_sin[distance] = pf.naive_logical_find_peaks(signal_sin, min_distance=distance)\n",
    "    success_metrics(peaks_sin[distance], signal='sin', string=f\"Distance: {distance}, \")"
   ]
  },
  {
   "attachments": {},
   "cell_type": "markdown",
   "metadata": {},
   "source": [
    "**Results Commentary**: In terms of time, naive_logical_find_peaks did not perform as well as MNE. Additionally, it performed poorly at distinguishing peaks in the noisy EEG dataset. "
   ]
  },
  {
   "attachments": {},
   "cell_type": "markdown",
   "metadata": {},
   "source": [
    "#### naive_mathematical_find_peaks"
   ]
  },
  {
   "cell_type": "code",
   "execution_count": 19,
   "metadata": {},
   "outputs": [
    {
     "name": "stdout",
     "output_type": "stream",
     "text": [
      "MNE: Peaks: 29454, peak/signal: 0.0037, (actual)/(predicted) peaks : 1.0, Intersect Num: 29454 (1.0)\n",
      "Peaks: 2128087, peak/signal: 0.2677, (actual)/(predicted) peaks : 72.2512, Intersect Num: 29070 (0.987)\n",
      "\n",
      "\n",
      "MNE: Peaks: 2, peak/signal: 0.0067, (actual)/(predicted) peaks : 1.0, Intersect Num: 2 (1.0)\n",
      "Peaks: 2, peak/signal: 0.0067, (actual)/(predicted) peaks : 1.0, Intersect Num: 1 (0.5)\n"
     ]
    }
   ],
   "source": [
    "success_metrics(mne_eeg_peak_locs, signal='eeg', string=\"MNE: \")\n",
    "ind_eeg_naive_mathematical_find_peaks = pf.naive_mathematical_find_peaks(signal_eeg)\n",
    "success_metrics(ind_eeg_naive_mathematical_find_peaks, signal='eeg')\n",
    "\n",
    "print('\\n')\n",
    "\n",
    "success_metrics(mne_sin_peak_locs, signal='sin', string=\"MNE: \")\n",
    "ind_sin_naive_mathematical_find_peaks = pf.naive_mathematical_find_peaks(signal_sin)\n",
    "success_metrics(ind_sin_naive_mathematical_find_peaks, signal='sin')"
   ]
  },
  {
   "attachments": {},
   "cell_type": "markdown",
   "metadata": {},
   "source": [
    "**Results Commentary**: In terms of time, naive_mathematical_find_peaks performed similarly to MNE. However, it performed poorly at distinguishing peaks in the noisy EEG dataset with 72.25 times as many peaks identified compared to MNE. "
   ]
  },
  {
   "attachments": {},
   "cell_type": "markdown",
   "metadata": {},
   "source": [
    "#### peak_typing_finder"
   ]
  },
  {
   "cell_type": "code",
   "execution_count": 20,
   "metadata": {},
   "outputs": [
    {
     "name": "stdout",
     "output_type": "stream",
     "text": [
      "MNE: Peaks: 29454, peak/signal: 0.0037, (actual)/(predicted) peaks : 1.0, Intersect Num: 29454 (1.0)\n",
      "Edge: rising, Peaks: 161038, peak/signal: 0.0203, (actual)/(predicted) peaks : 5.4674, Intersect Num: 25484 (0.8652)\n",
      "Edge: falling, Peaks: 161118, peak/signal: 0.0203, (actual)/(predicted) peaks : 5.4702, Intersect Num: 25323 (0.8597)\n",
      "Edge: both, Peaks: 162401, peak/signal: 0.0204, (actual)/(predicted) peaks : 5.5137, Intersect Num: 25484 (0.8652)\n",
      "Edge: None, Peaks: 159755, peak/signal: 0.0201, (actual)/(predicted) peaks : 5.4239, Intersect Num: 25323 (0.8597)\n",
      "\n",
      "\n",
      "MNE: Peaks: 2, peak/signal: 0.0067, (actual)/(predicted) peaks : 1.0, Intersect Num: 2 (1.0)\n",
      "Edge: rising, Peaks: 2, peak/signal: 0.0067, (actual)/(predicted) peaks : 1.0, Intersect Num: 2 (1.0)\n",
      "Edge: falling, Peaks: 2, peak/signal: 0.0067, (actual)/(predicted) peaks : 1.0, Intersect Num: 2 (1.0)\n",
      "Edge: both, Peaks: 2, peak/signal: 0.0067, (actual)/(predicted) peaks : 1.0, Intersect Num: 2 (1.0)\n",
      "Edge: None, Peaks: 2, peak/signal: 0.0067, (actual)/(predicted) peaks : 1.0, Intersect Num: 2 (1.0)\n"
     ]
    }
   ],
   "source": [
    "minimum_height = 4e-5\n",
    "edges = ['rising', 'falling', 'both', None]\n",
    "success_metrics(mne_eeg_peak_locs, signal='eeg', string=\"MNE: \")\n",
    "for edge in edges:\n",
    "    ind_eeg_peak_typing_finder = pf.peak_typing_finder(signal_eeg, minimum_height=minimum_height, minimum_distance=1, edge=edge)\n",
    "    success_metrics(ind_eeg_peak_typing_finder, signal='eeg', string=f\"Edge: {edge}, \")\n",
    "\n",
    "print('\\n')\n",
    "\n",
    "success_metrics(mne_sin_peak_locs, signal='sin', string=\"MNE: \")\n",
    "for edge in edges:\n",
    "    ind_sin_peak_typing_finder = pf.peak_typing_finder(signal_sin, minimum_height=minimum_height, minimum_distance=1, edge=edge)\n",
    "    success_metrics(ind_sin_peak_typing_finder, signal='sin', string=f\"Edge: {edge}, \")"
   ]
  },
  {
   "attachments": {},
   "cell_type": "markdown",
   "metadata": {},
   "source": [
    "**Results Commentary**: In terms of time, peak_typing_finder peformed as well or better than MNE. However, it performed moderately well at distinguishing peaks in the noisy EEG dataset with 5.47 times as many peaks identified compared to MNE while covering 86.5% of the peaks. The edge type did not significantly affect performance on this data, likely due to the noise in the EEG dataset."
   ]
  },
  {
   "attachments": {},
   "cell_type": "markdown",
   "metadata": {},
   "source": [
    "@Derek and @Fiji"
   ]
  },
  {
   "attachments": {},
   "cell_type": "markdown",
   "metadata": {},
   "source": [
    "## Classification Experiment Results"
   ]
  },
  {
   "cell_type": "code",
   "execution_count": null,
   "metadata": {},
   "outputs": [],
   "source": []
  },
  {
   "attachments": {},
   "cell_type": "markdown",
   "metadata": {},
   "source": [
    "## Challenges\n",
    "..."
   ]
  },
  {
   "attachments": {},
   "cell_type": "markdown",
   "metadata": {},
   "source": [
    "## Work Breakdown\n",
    "\n",
    "Kasra Lekan: \n",
    "- Coding experimental setup (including background MNE research how to modify underlying data)\n",
    "- Peak Detection Algorithm\n",
    "\n",
    "Derek Johnson: \n",
    "- Butterworth Filter\n",
    "\n",
    "Fiji Marcelin: \n",
    "- Band Pass Filter\n",
    "\n",
    "All:\n",
    "- Combining filters and testing classification accuracy"
   ]
  },
  {
   "attachments": {},
   "cell_type": "markdown",
   "metadata": {},
   "source": [
    "## References\n",
    "1. B. Kemp, A. H. Zwinderman, B. Tuk, H. A. C. Kamphuisen, and J. J. L. Oberyé. Analysis of a sleep-dependent neuronal feedback loop: the slow-wave microcontinuity of the EEG. IEEE Transactions on Biomedical Engineering, 47(9):1185–1194, 2000. doi:10.1109/10.867928.\n",
    "    Dataset for analysis\n",
    "2. https://mne.tools/stable/index.html\n",
    "    Implementation of foundational EEG signals pipleline\n",
    "3. https://neuraldatascience.io/intro.html\n",
    "    E-book that covers analysis of EEG data in the frequency domain.\n",
    "4. https://en.wikipedia.org/wiki/Band-pass_filter\n",
    "5. https://en.wikipedia.org/wiki/Butterworth_filter\n",
    "6. https://docs.scipy.org/doc/scipy/reference/generated/scipy.signal.find_peaks.html\n",
    "7. http://www.scholarpedia.org/article/Electroencephalogram\n",
    "    An overview of electroencephologram (EEG) collection. \n"
   ]
  }
 ],
 "metadata": {
  "kernelspec": {
   "display_name": "eeg",
   "language": "python",
   "name": "python3"
  },
  "language_info": {
   "codemirror_mode": {
    "name": "ipython",
    "version": 3
   },
   "file_extension": ".py",
   "mimetype": "text/x-python",
   "name": "python",
   "nbconvert_exporter": "python",
   "pygments_lexer": "ipython3",
   "version": "3.9.0"
  },
  "orig_nbformat": 4
 },
 "nbformat": 4,
 "nbformat_minor": 2
}
