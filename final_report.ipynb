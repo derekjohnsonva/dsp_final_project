{
 "cells": [
  {
   "attachments": {},
   "cell_type": "markdown",
   "metadata": {},
   "source": [
    "# Using DSP to improve the accuracy of an EEG classifier\n",
    "\n",
    "**Authors**\n",
    "1. Kasra Lekan (kl5sq)\n",
    "2. Derek Johnson (dej3tc)\n",
    "3. Fiji Marcelin (fm4cg)"
   ]
  },
  {
   "attachments": {},
   "cell_type": "markdown",
   "metadata": {},
   "source": [
    "## Experimental Setup\n",
    "**Signal Data**: For now, we plan on applying these techniques to sleep stage EEG data. This data is taken from a study looking at “slow-wave microconfinuity” during sleep [1]. \n",
    "\n",
    "**MNE Package**: The MNE package ..."
   ]
  },
  {
   "attachments": {},
   "cell_type": "markdown",
   "metadata": {},
   "source": [
    "## Method 1: Peak Finder\n",
    "### Theory\n",
    "    \n",
    "### Implementation\n"
   ]
  },
  {
   "cell_type": "code",
   "execution_count": null,
   "metadata": {},
   "outputs": [],
   "source": [
    "# import peak_finder as pf"
   ]
  },
  {
   "attachments": {},
   "cell_type": "markdown",
   "metadata": {},
   "source": [
    "@Derek and @Fiji"
   ]
  },
  {
   "attachments": {},
   "cell_type": "markdown",
   "metadata": {},
   "source": [
    "## Experiment Results"
   ]
  },
  {
   "cell_type": "code",
   "execution_count": null,
   "metadata": {},
   "outputs": [],
   "source": []
  },
  {
   "attachments": {},
   "cell_type": "markdown",
   "metadata": {},
   "source": [
    "## Challenges\n",
    "..."
   ]
  },
  {
   "attachments": {},
   "cell_type": "markdown",
   "metadata": {},
   "source": [
    "## Work Breakdown\n",
    "\n",
    "Kasra Lekan: \n",
    "- Experimental setup and background MNE research\n",
    "- Peak Detection Algorithm\n",
    "\n",
    "Derek Johnson: \n",
    "- Butterworth Filter\n",
    "\n",
    "Fiji Marcelin: \n",
    "- Band Pass Filter\n",
    "\n",
    "All:\n",
    "- Combining filters and testing classification accuracy"
   ]
  },
  {
   "attachments": {},
   "cell_type": "markdown",
   "metadata": {},
   "source": [
    "## References\n",
    "1. B. Kemp, A. H. Zwinderman, B. Tuk, H. A. C. Kamphuisen, and J. J. L. Oberyé. Analysis of a sleep-dependent neuronal feedback loop: the slow-wave microcontinuity of the EEG. IEEE Transactions on Biomedical Engineering, 47(9):1185–1194, 2000. doi:10.1109/10.867928.\n",
    "    Dataset for analysis\n",
    "2. https://mne.tools/stable/index.html\n",
    "    Implementation of foundational EEG signals pipleline\n",
    "3. https://neuraldatascience.io/intro.html\n",
    "    E-book that covers analysis of EEG data in the frequency domain.\n",
    "4. https://en.wikipedia.org/wiki/Band-pass_filter\n",
    "5. https://en.wikipedia.org/wiki/Butterworth_filter\n",
    "6. https://docs.scipy.org/doc/scipy/reference/generated/scipy.signal.find_peaks.html\n",
    "7. http://www.scholarpedia.org/article/Electroencephalogram\n",
    "    An overview of electroencephologram (EEG) collection. \n"
   ]
  }
 ],
 "metadata": {
  "language_info": {
   "name": "python"
  },
  "orig_nbformat": 4
 },
 "nbformat": 4,
 "nbformat_minor": 2
}
